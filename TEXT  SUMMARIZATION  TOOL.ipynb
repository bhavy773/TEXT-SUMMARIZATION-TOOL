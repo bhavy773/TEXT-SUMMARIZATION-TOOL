{
 "cells": [
  {
   "cell_type": "code",
   "execution_count": 5,
   "id": "33e42ce1-408d-446a-bd8e-51fbd4ca0714",
   "metadata": {},
   "outputs": [
    {
     "name": "stderr",
     "output_type": "stream",
     "text": [
      "[nltk_data] Downloading package punkt to\n",
      "[nltk_data]     C:\\Users\\DELL\\AppData\\Roaming\\nltk_data...\n",
      "[nltk_data]   Package punkt is already up-to-date!\n"
     ]
    },
    {
     "data": {
      "text/plain": [
       "True"
      ]
     },
     "execution_count": 5,
     "metadata": {},
     "output_type": "execute_result"
    }
   ],
   "source": [
    "!pip install sumy nltk --quiet\n",
    "\n",
    "import nltk\n",
    "nltk.download('punkt')  # ✅ This line is mandatory to fix the error\n"
   ]
  },
  {
   "cell_type": "code",
   "execution_count": 7,
   "id": "bc38a7bb-c114-44bc-8a37-3ca94d68319a",
   "metadata": {},
   "outputs": [
    {
     "name": "stderr",
     "output_type": "stream",
     "text": [
      "[nltk_data] Downloading package punkt to\n",
      "[nltk_data]     C:\\Users\\DELL\\AppData\\Roaming\\nltk_data...\n",
      "[nltk_data]   Package punkt is already up-to-date!\n",
      "[nltk_data] Downloading package punkt_tab to\n",
      "[nltk_data]     C:\\Users\\DELL\\AppData\\Roaming\\nltk_data...\n",
      "[nltk_data]   Unzipping tokenizers\\punkt_tab.zip.\n"
     ]
    },
    {
     "data": {
      "text/plain": [
       "True"
      ]
     },
     "execution_count": 7,
     "metadata": {},
     "output_type": "execute_result"
    }
   ],
   "source": [
    "import nltk\n",
    "\n",
    "# Fix NLTK tokenizer issue\n",
    "nltk.download('punkt')  # Standard tokenizer\n",
    "nltk.download('punkt_tab')  # Required by sumy in your environment\n"
   ]
  },
  {
   "cell_type": "code",
   "execution_count": 8,
   "id": "4059cf08-6bea-4af5-9db9-c5205354c270",
   "metadata": {},
   "outputs": [
    {
     "name": "stdout",
     "output_type": "stream",
     "text": [
      "Summary:\n",
      "\n",
      "- India, a country located in South Asia, is known for its rich history, diverse culture, and rapid economic growth.\n",
      "- In recent decades, India has become a major player in information technology, pharmaceuticals, and space exploration.\n",
      "- India continues to work toward becoming a developed nation while maintaining its cultural heritage and democratic values.\n"
     ]
    }
   ],
   "source": [
    "from sumy.parsers.plaintext import PlaintextParser\n",
    "from nltk.tokenize import sent_tokenize\n",
    "from sumy.summarizers.text_rank import TextRankSummarizer\n",
    "from sumy.nlp.stemmers import Stemmer\n",
    "from sumy.nlp.tokenizers import Tokenizer as SumyTokenizer\n",
    "from sumy.utils import get_stop_words\n",
    "\n",
    "LANGUAGE = \"english\"\n",
    "SENTENCES_COUNT = 3\n",
    "\n",
    "# Sample long article\n",
    "long_text = \"\"\"\n",
    "India, a country located in South Asia, is known for its rich history, diverse culture, and rapid economic growth.\n",
    "With over 1.4 billion people, it is the most populous country in the world as of 2023.\n",
    "India has a parliamentary system and is the world's largest democracy.\n",
    "It is home to many religions, languages, and ethnic groups.\n",
    "In recent decades, India has become a major player in information technology, pharmaceuticals, and space exploration.\n",
    "The Indian Space Research Organisation (ISRO) has made significant progress with missions like Chandrayaan and Mangalyaan.\n",
    "Despite its progress, the country faces challenges such as poverty, pollution, and unequal access to education and healthcare.\n",
    "India continues to work toward becoming a developed nation while maintaining its cultural heritage and democratic values.\n",
    "\"\"\"\n",
    "\n",
    "# Use the standard tokenizer from NLTK (bypassing punkt_tab)\n",
    "parser = PlaintextParser.from_string(long_text, SumyTokenizer(LANGUAGE))\n",
    "summarizer = TextRankSummarizer(Stemmer(LANGUAGE))\n",
    "summarizer.stop_words = get_stop_words(LANGUAGE)\n",
    "\n",
    "# Print summary\n",
    "print(\"Summary:\\n\")\n",
    "for sentence in summarizer(parser.document, SENTENCES_COUNT):\n",
    "    print(\"-\", sentence)\n"
   ]
  },
  {
   "cell_type": "code",
   "execution_count": null,
   "id": "060068df-66a4-4b03-8025-f8a470057ff0",
   "metadata": {},
   "outputs": [],
   "source": []
  }
 ],
 "metadata": {
  "kernelspec": {
   "display_name": "Python 3 (ipykernel)",
   "language": "python",
   "name": "python3"
  },
  "language_info": {
   "codemirror_mode": {
    "name": "ipython",
    "version": 3
   },
   "file_extension": ".py",
   "mimetype": "text/x-python",
   "name": "python",
   "nbconvert_exporter": "python",
   "pygments_lexer": "ipython3",
   "version": "3.12.7"
  }
 },
 "nbformat": 4,
 "nbformat_minor": 5
}
